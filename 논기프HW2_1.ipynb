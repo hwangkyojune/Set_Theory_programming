{
  "nbformat": 4,
  "nbformat_minor": 0,
  "metadata": {
    "colab": {
      "provenance": [],
      "authorship_tag": "ABX9TyOuQYNNOuqnsEg4Q6Hlg4Vg",
      "include_colab_link": true
    },
    "kernelspec": {
      "name": "python3",
      "display_name": "Python 3"
    },
    "language_info": {
      "name": "python"
    }
  },
  "cells": [
    {
      "cell_type": "markdown",
      "metadata": {
        "id": "view-in-github",
        "colab_type": "text"
      },
      "source": [
        "<a href=\"https://colab.research.google.com/github/hwangkyojune/Set_Theory_programming/blob/python/%EB%85%BC%EA%B8%B0%ED%94%84HW2_1.ipynb\" target=\"_parent\"><img src=\"https://colab.research.google.com/assets/colab-badge.svg\" alt=\"Open In Colab\"/></a>"
      ]
    },
    {
      "cell_type": "code",
      "source": [
        "numlist = []\n",
        "\n",
        "for i in range(100):\n",
        "  if i == 0 :\n",
        "    number = int(input(\"자연수 한 개를 입력하세요.\"))\n",
        "    if number == 0 :\n",
        "      break\n",
        "    else :\n",
        "      numlist.append(number)\n",
        "\n",
        "  elif i == 99 :\n",
        "    number = int(input(\"계속 입력을 원하시면, 자연수 한 개를입력하시고, 아니라면 0을 입력하세요.\"))\n",
        "    if number == 0 :\n",
        "      break\n",
        "    else:\n",
        "      ind = 0\n",
        "      for k in numlist:\n",
        "        if k > number:\n",
        "          ind +=1\n",
        "      numlist.insert(ind,number)  \n",
        "\n",
        "    print(\"이제 그만하세요.벌써 100개를 입력했어요\")\n",
        "\n",
        "  else:\n",
        "    number = int(input(\"계속 입력을 원하시면, 자연수 한 개를입력하시고, 아니라면 0을 입력하세요.\"))\n",
        "    if number == 0 :\n",
        "      break\n",
        "    else:\n",
        "      ind = 0\n",
        "      for k in numlist:\n",
        "        if k > number:\n",
        "          ind +=1\n",
        "      numlist.insert(ind,number)\n",
        "\n",
        "for i in range(len(numlist)):\n",
        "  numlist[i] = str(numlist[i])\n",
        "  \n",
        "line = \",\".join(numlist)\n",
        "print(line)\n"
      ],
      "metadata": {
        "colab": {
          "base_uri": "https://localhost:8080/"
        },
        "id": "VG9dhRpGcHw-",
        "outputId": "1c52ba46-843d-4a4a-9d46-dfb0f70dd821"
      },
      "execution_count": null,
      "outputs": [
        {
          "output_type": "stream",
          "name": "stdout",
          "text": [
            "자연수 한 개를 입력하세요.45\n",
            "계속 입력을 원하시면, 자연수 한 개를입력하시고, 아니라면 0을 입력하세요.65\n",
            "계속 입력을 원하시면, 자연수 한 개를입력하시고, 아니라면 0을 입력하세요.12\n",
            "계속 입력을 원하시면, 자연수 한 개를입력하시고, 아니라면 0을 입력하세요.34\n",
            "계속 입력을 원하시면, 자연수 한 개를입력하시고, 아니라면 0을 입력하세요.58\n",
            "계속 입력을 원하시면, 자연수 한 개를입력하시고, 아니라면 0을 입력하세요.2\n",
            "계속 입력을 원하시면, 자연수 한 개를입력하시고, 아니라면 0을 입력하세요.69\n",
            "계속 입력을 원하시면, 자연수 한 개를입력하시고, 아니라면 0을 입력하세요.75\n",
            "계속 입력을 원하시면, 자연수 한 개를입력하시고, 아니라면 0을 입력하세요.23\n",
            "계속 입력을 원하시면, 자연수 한 개를입력하시고, 아니라면 0을 입력하세요.10\n",
            "계속 입력을 원하시면, 자연수 한 개를입력하시고, 아니라면 0을 입력하세요.0\n",
            "75,69,65,58,45,34,23,12,10,2\n"
          ]
        }
      ]
    },
    {
      "cell_type": "code",
      "source": [],
      "metadata": {
        "id": "tY7TUWzREWeD"
      },
      "execution_count": null,
      "outputs": []
    },
    {
      "cell_type": "code",
      "source": [],
      "metadata": {
        "id": "oCw-mftkE2MB"
      },
      "execution_count": null,
      "outputs": []
    }
  ]
}