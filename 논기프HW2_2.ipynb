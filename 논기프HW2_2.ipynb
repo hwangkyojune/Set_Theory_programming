{
  "nbformat": 4,
  "nbformat_minor": 0,
  "metadata": {
    "colab": {
      "provenance": [],
      "authorship_tag": "ABX9TyNUAUu76uRqe6CTrYxPeIqt",
      "include_colab_link": true
    },
    "kernelspec": {
      "name": "python3",
      "display_name": "Python 3"
    },
    "language_info": {
      "name": "python"
    }
  },
  "cells": [
    {
      "cell_type": "markdown",
      "metadata": {
        "id": "view-in-github",
        "colab_type": "text"
      },
      "source": [
        "<a href=\"https://colab.research.google.com/github/hwangkyojune/Set_Theory_programming/blob/python/%EB%85%BC%EA%B8%B0%ED%94%84HW2_2.ipynb\" target=\"_parent\"><img src=\"https://colab.research.google.com/assets/colab-badge.svg\" alt=\"Open In Colab\"/></a>"
      ]
    },
    {
      "cell_type": "code",
      "execution_count": null,
      "metadata": {
        "colab": {
          "base_uri": "https://localhost:8080/"
        },
        "id": "qTUsrRYrnYRM",
        "outputId": "ff6d53e3-d013-4ca0-953a-730bfe00571f"
      },
      "outputs": [
        {
          "output_type": "stream",
          "name": "stdout",
          "text": [
            "5\n",
            "1\n",
            "*2\n",
            "**3\n",
            "***4\n",
            "****5\n"
          ]
        }
      ],
      "source": [
        "number = int(input())\n",
        "if number > 30 :\n",
        "  print(\"숫자가 너무 많습니다.\")\n",
        "location = 0\n",
        "star = \"*\"\n",
        "while(location < number):\n",
        "  print(star*location+str(location+1))\n",
        "  location+=1\n"
      ]
    },
    {
      "cell_type": "code",
      "source": [],
      "metadata": {
        "id": "9BBAXbE5n1D-"
      },
      "execution_count": null,
      "outputs": []
    }
  ]
}